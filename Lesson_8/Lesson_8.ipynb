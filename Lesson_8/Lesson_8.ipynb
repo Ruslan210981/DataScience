{
 "cells": [
  {
   "cell_type": "markdown",
   "id": "878fb1c2",
   "metadata": {},
   "source": [
    "# Задание 1\n",
    "\n",
    "Создайте numpy array с элементами от числа N до 0 (например, для N = 10 это будет array([9, 8, 7, 6, 5, 4, 3, 2, 1, 0]))"
   ]
  },
  {
   "cell_type": "code",
   "execution_count": 13,
   "id": "2fac4be3",
   "metadata": {
    "scrolled": true
   },
   "outputs": [
    {
     "data": {
      "text/plain": [
       "array([9, 8, 7, 6, 5, 4, 3, 2, 1, 0])"
      ]
     },
     "execution_count": 13,
     "metadata": {},
     "output_type": "execute_result"
    }
   ],
   "source": [
    "import numpy as np\n",
    "N = 10\n",
    "np.arange(N-1,-1,-1)\n",
    "\n"
   ]
  },
  {
   "cell_type": "markdown",
   "id": "241727d7",
   "metadata": {},
   "source": [
    "# Задание 2\n",
    "\n",
    "Создайте диагональную матрицу с элементами от N до 0. Посчитайте сумму ее значений на диагонали."
   ]
  },
  {
   "cell_type": "code",
   "execution_count": 31,
   "id": "b0267f9e",
   "metadata": {
    "scrolled": true
   },
   "outputs": [
    {
     "data": {
      "text/plain": [
       "12.0"
      ]
     },
     "execution_count": 31,
     "metadata": {},
     "output_type": "execute_result"
    }
   ],
   "source": [
    "N = 3\n",
    "#создаем матрицу размером [N,N], делаем из нее диагональную и затем считаем сумму ее главной диаонали\n",
    "sum(np.diag(np.arange(N**2-1,-1,-1).reshape(N,N) * np.eye(N)))\n"
   ]
  },
  {
   "cell_type": "markdown",
   "id": "281aae62",
   "metadata": {},
   "source": [
    "# Задание 3\n",
    "\n",
    "Решите систему уравнений:\n",
    "4x + 2y + z = 4\n",
    "x + 3y = 12\n",
    "5y + 4z = -3"
   ]
  },
  {
   "cell_type": "code",
   "execution_count": 46,
   "id": "a1881a05",
   "metadata": {
    "scrolled": true
   },
   "outputs": [
    {
     "name": "stdout",
     "output_type": "stream",
     "text": [
      "Уравнение: \n",
      "\n",
      "4x + 2y + z = 4\n",
      "x + 3y = 12\n",
      "5y + 4z = -3 \n",
      "\n",
      "Имеет решение: [ 0.46666667  3.84444444 -5.55555556]\n"
     ]
    }
   ],
   "source": [
    "from numpy import linalg\n",
    "a = np.array([[4, 2, 1],[1, 3, 0],[0, 5, 4]])\n",
    "b = np.array([4, 12, -3])\n",
    "print(\"Уравнение: \\n\")\n",
    "print(\"4x + 2y + z = 4\")      \n",
    "print(\"x + 3y = 12\")     \n",
    "print(\"5y + 4z = -3 \\n\")      \n",
    "print(f\"Имеет решение: {linalg.solve(a, b)}\")     "
   ]
  },
  {
   "cell_type": "markdown",
   "id": "a7e66edb",
   "metadata": {},
   "source": [
    "# Задание 4"
   ]
  },
  {
   "cell_type": "code",
   "execution_count": 59,
   "id": "bf666222",
   "metadata": {},
   "outputs": [
    {
     "name": "stdout",
     "output_type": "stream",
     "text": [
      "Новый покупатель наиболее похож на покупателя с номером: 7\n"
     ]
    }
   ],
   "source": [
    "# Функция для подсчета косинуса между векторами\n",
    "def cosine( a, b ):\n",
    "    \"\"\"\n",
    "    Подсчет косинуса угла между векторами a, b по их координатам\n",
    "    \"\"\" \n",
    "    # длины векторов\n",
    "    aLength = np.sqrt((a*a).sum())\n",
    "    bLength = np.sqrt((b*b).sum())\n",
    "    \n",
    "    return np.dot( a, b ) / ( aLength * bLength )\n",
    "\n",
    "# Имеется матрица покупок в интернет-магазине.\n",
    "user_id = 0\n",
    "prev_cos = 0.0\n",
    "rez_cos = 0.0\n",
    "users_stats = np.array(\n",
    "    [\n",
    "        [2, 1, 0, 0, 0, 0],\n",
    "        [1, 1, 2, 1, 0, 0],\n",
    "        [2, 0, 1, 0, 0, 0],\n",
    "        [1, 1, 2, 1, 0, 1],\n",
    "        [0, 0, 1, 2, 0, 0],\n",
    "        [0, 0, 0, 0, 0, 5],\n",
    "        [1, 0, 0, 0, 0, 0],\n",
    "        [0, 1, 1, 0, 0, 0],\n",
    "        [0, 0, 0, 1, 1, 3],\n",
    "        [1, 0, 0, 2, 1, 4] \n",
    "    ]\n",
    ")\n",
    "# На сайт заходит очередной посетитель, о покупках которого известно следующее:\n",
    "next_user_stats = np.array([0, 1, 2, 0, 0, 0])\n",
    "# Определяем похожего покупателя\n",
    "for i in users_stats:\n",
    "    rez_cos = cosine(i, next_user_stats)\n",
    "    if prev_cos < rez_cos:\n",
    "        prev_cos = rez_cos\n",
    "        similar_user = user_id\n",
    "    user_id += 1\n",
    "print(f\"Новый покупатель наиболее похож на покупателя с номером: {similar_user}\")\n",
    "    \n"
   ]
  }
 ],
 "metadata": {
  "kernelspec": {
   "display_name": "Python 3",
   "language": "python",
   "name": "python3"
  },
  "language_info": {
   "codemirror_mode": {
    "name": "ipython",
    "version": 3
   },
   "file_extension": ".py",
   "mimetype": "text/x-python",
   "name": "python",
   "nbconvert_exporter": "python",
   "pygments_lexer": "ipython3",
   "version": "3.8.8"
  }
 },
 "nbformat": 4,
 "nbformat_minor": 5
}
