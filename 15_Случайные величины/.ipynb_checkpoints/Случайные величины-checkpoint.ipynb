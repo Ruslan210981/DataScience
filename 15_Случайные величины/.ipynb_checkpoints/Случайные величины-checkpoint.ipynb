{
 "cells": [
  {
   "cell_type": "markdown",
   "id": "3f6e6aa2",
   "metadata": {},
   "source": [
    "# Смоделировать игру против лотерейного автомата типа “777”. Игрок платит 1 руб., после чего выпадает случайное целое число, равномерно распределенное от 0 до 999. При некоторых значениях числа игрок получает выигрыш.\n",
    "\n",
    "777: 200 руб.\n",
    "999: 100 руб.\n",
    "555: 50 руб.\n",
    "333: 15 руб.\n",
    "111: 10 руб.\n",
    "*77: 5 руб.\n",
    "**7: 3 руб.\n",
    "*00: 2 руб.\n",
    "**0: 1 руб.\n",
    "\n",
    "Вопросы:\n",
    "\n",
    "    Выгодна ли игра игроку?\n",
    "    Сколько в среднем приобретает или теряет игрок за одну игру?\n"
   ]
  },
  {
   "cell_type": "code",
   "execution_count": 22,
   "id": "7cf2a311",
   "metadata": {},
   "outputs": [
    {
     "name": "stdout",
     "output_type": "stream",
     "text": [
      "Вероятность выигрыша игроком составляет около:  82.2329 %\n",
      "В среднем за одну игру игрок теряет:  0.17767100000000002 Руб.\n"
     ]
    }
   ],
   "source": [
    "import numpy as np\n",
    "trials = 1000000\n",
    "_777 = 0\n",
    "_999 = 0\n",
    "_555 = 0\n",
    "_333 = 0\n",
    "_111 = 0\n",
    "_x77 = 0\n",
    "_xx7 = 0\n",
    "_x00 = 0\n",
    "_xx0 = 0\n",
    "for i in range(trials):\n",
    "    random_score = np.random.randint(0, 1000)\n",
    "    if random_score == 777: _777 += 1\n",
    "    if random_score == 999: _999 += 1\n",
    "    if random_score == 555: _555 += 1\n",
    "    if random_score == 333: _333 += 1\n",
    "    if random_score == 111: _111 += 1\n",
    "    if (random_score != 777) & (random_score%100 == 77): _x77 += 1\n",
    "    if (random_score != 777) & (random_score%10 == 7): _xx7 += 1    \n",
    "    if (random_score%100 == 0): \n",
    "        _x00 += 1\n",
    "    elif (random_score%10 == 0): _xx0 += 1 \n",
    "\n",
    "aposter_ver = (_777*200 + _999*100 + _555*50 + _333*15 + _111*10 + _x77*5 + _xx7*3 + _x00*2 + _xx0*1)/trials\n",
    "\n",
    "           \n",
    "print('Вероятность выигрыша игроком составляет около: ', aposter_ver*100,'%')\n",
    "print('В среднем за одну игру игрок теряет: ', 1-aposter_ver, 'Руб.')"
   ]
  }
 ],
 "metadata": {
  "kernelspec": {
   "display_name": "Python 3",
   "language": "python",
   "name": "python3"
  },
  "language_info": {
   "codemirror_mode": {
    "name": "ipython",
    "version": 3
   },
   "file_extension": ".py",
   "mimetype": "text/x-python",
   "name": "python",
   "nbconvert_exporter": "python",
   "pygments_lexer": "ipython3",
   "version": "3.8.8"
  }
 },
 "nbformat": 4,
 "nbformat_minor": 5
}
