{
 "cells": [
  {
   "cell_type": "raw",
   "id": "46fcce6b",
   "metadata": {},
   "source": [
    "# Переведите содержимое файла purchase_log.txt в словарь purchases вида:\n",
    "{‘1840e0b9d4’: ‘Продукты’, …}"
   ]
  },
  {
   "cell_type": "code",
   "execution_count": 50,
   "id": "8cb813ae",
   "metadata": {},
   "outputs": [],
   "source": [
    "# %%time\n",
    "import json\n",
    "purchases = {}\n",
    "file_r = open('purchase_log.txt','r',encoding = 'utf-8')\n",
    "file_w = open('purchases.txt','w')\n",
    "for line in file_r:\n",
    "    line = json.loads(line)\n",
    "    purchases[line['user_id']] = line['category']    \n",
    "file_w.write(str(purchases))\n",
    "file_r.close()\n",
    "file_w.close()"
   ]
  },
  {
   "cell_type": "markdown",
   "id": "7fe4d831",
   "metadata": {},
   "source": [
    "Для каждого user_id в файле visit_log.csv определите третий столбец с категорией покупки (если покупка была, сам файл visit_log.csv изменять не надо). Запишите в файл funnel.csv визиты из файла visit_log.csv, в которых были покупки с указанием категории.\n",
    "Учтите условия на данные:\n",
    "содержимое purchase_log.txt помещается в оперативную память компьютера\n",
    "содержимое visit_log.csv - нет; используйте только построчную обработку этого файла"
   ]
  },
  {
   "cell_type": "code",
   "execution_count": 142,
   "id": "4ed60bd7",
   "metadata": {},
   "outputs": [
    {
     "name": "stdout",
     "output_type": "stream",
     "text": [
      "Wall time: 522 ms\n"
     ]
    }
   ],
   "source": [
    "%%time\n",
    "\n",
    "import json\n",
    "i = 0\n",
    "dict_content = {}\n",
    "purchase_r = open('purchase_log.txt','r',encoding = 'utf-8')\n",
    "for x in purchase_r:\n",
    "    temp = json.loads(x)\n",
    "    dict_content[temp['user_id']] = temp['category'] \n",
    "purchase_r.close()\n",
    "visit_r = open('visit_log.csv','r',encoding = 'utf-8')\n",
    "funnel_w = open('funnel.csv','w')\n",
    "for line in visit_r:\n",
    "    line = line.strip().split(',')\n",
    "    if line[0] in dict_content:\n",
    "        funnel_w.write(f\"{line[0]}, {line[1]}, {dict_content[line[0]]}\\n\")\n",
    "funnel_w.close()\n",
    "\n",
    "    \n",
    "    \n",
    "    \n",
    "    \n",
    "    \n",
    "    "
   ]
  }
 ],
 "metadata": {
  "kernelspec": {
   "display_name": "Python 3",
   "language": "python",
   "name": "python3"
  },
  "language_info": {
   "codemirror_mode": {
    "name": "ipython",
    "version": 3
   },
   "file_extension": ".py",
   "mimetype": "text/x-python",
   "name": "python",
   "nbconvert_exporter": "python",
   "pygments_lexer": "ipython3",
   "version": "3.8.8"
  }
 },
 "nbformat": 4,
 "nbformat_minor": 5
}
