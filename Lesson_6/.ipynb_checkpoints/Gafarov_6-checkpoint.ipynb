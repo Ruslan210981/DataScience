{
 "cells": [
  {
   "cell_type": "markdown",
   "id": "c0178bb0",
   "metadata": {},
   "source": [
    "# Задание 1\n",
    "\n",
    "Печатные газеты использовали свой формат дат для каждого выпуска. Для каждой газеты из списка напишите формат указанной даты\n",
    "для перевода в объект datetime:\n",
    "The Moscow Times - Wednesday, October 2, 2002\n",
    "The Guardian - Friday, 11.10.13\n",
    "Daily News - Thursday, 18 August 1977"
   ]
  },
  {
   "cell_type": "code",
   "execution_count": 15,
   "id": "d5f19255",
   "metadata": {},
   "outputs": [
    {
     "name": "stdout",
     "output_type": "stream",
     "text": [
      "Moscow Times 2002-10-02 00:00:00\n",
      "The Guardian 2013-10-11 00:00:00\n",
      "Daily News 1977-08-18 00:00:00\n"
     ]
    }
   ],
   "source": [
    "from datetime import datetime as dt\n",
    "moscow_times = 'Wednesday, October 2, 2002'\n",
    "guardian = 'Friday, 11.10.13'\n",
    "daily_news = 'Thursday, 18 August 1977'\n",
    "print(f\"Moscow Times {dt.strptime(moscow_times,'%A, %B %d, %Y')}\")\n",
    "print(f\"The Guardian {dt.strptime(guardian,'%A, %d.%m.%y')}\")\n",
    "print(f\"Daily News {dt.strptime(daily_news,'%A, %d %B %Y')}\")"
   ]
  },
  {
   "cell_type": "markdown",
   "id": "c0145eab",
   "metadata": {},
   "source": [
    "# Задание 2\n",
    "\n",
    "Дан поток дат в формате YYYY-MM-DD, в которых встречаются некорректные значения:\n",
    "stream = [‘2018-04-02’, ‘2018-02-29’, ‘2018-19-02’]\n",
    "\n",
    "Напишите функцию, которая проверяет эти даты на корректность. Т. е. для каждой даты возвращает True (дата корректна) или False (некорректная дата)."
   ]
  },
  {
   "cell_type": "code",
   "execution_count": 22,
   "id": "8b7d999b",
   "metadata": {},
   "outputs": [
    {
     "name": "stdout",
     "output_type": "stream",
     "text": [
      "True\n",
      "False\n",
      "False\n"
     ]
    }
   ],
   "source": [
    "        \n",
    "def check_date(par_date):\n",
    "    try:\n",
    "        dt.strptime(par_date,'%Y-%m-%d')\n",
    "        return True\n",
    "    except:\n",
    "        return False\n",
    "\n",
    "stream = ['2018-04-02', '2018-02-29', '2018-19-02']\n",
    "for each_date in stream:\n",
    "    print(check_date(each_date))"
   ]
  },
  {
   "cell_type": "markdown",
   "id": "caaea90c",
   "metadata": {},
   "source": [
    "# Задание 3\n",
    "\n",
    "Напишите функцию date_range, которая возвращает список дат за период от start_date до end_date. Даты должны вводиться в формате YYYY-MM-DD. В случае неверного формата или при start_date > end_date должен возвращаться пустой список."
   ]
  },
  {
   "cell_type": "code",
   "execution_count": 62,
   "id": "dd671622",
   "metadata": {},
   "outputs": [
    {
     "name": "stdout",
     "output_type": "stream",
     "text": [
      "Введите дату старта в формате YYYY-MM-DD: 456lkn\n",
      "[]\n"
     ]
    }
   ],
   "source": [
    "# %%time\n",
    "from datetime import timedelta as td\n",
    "range_date = []\n",
    "def date_range(start, end):\n",
    "    if end > start:\n",
    "        while start <= end:\n",
    "            range_date.append(start.strftime('%Y-%m-%d'))\n",
    "            start += td(days = 1)\n",
    "    print(range_date)\n",
    "    \n",
    "try:\n",
    "    start_date = dt.strptime(input('Введите дату старта в формате YYYY-MM-DD: '),'%Y-%m-%d')\n",
    "    end_date = dt.strptime(input('Введите дату финиша в формате YYYY-MM-DD: '),'%Y-%m-%d')\n",
    "    date_range(start_date, end_date)\n",
    "except:\n",
    "    print(range_date)\n"
   ]
  }
 ],
 "metadata": {
  "kernelspec": {
   "display_name": "Python 3",
   "language": "python",
   "name": "python3"
  },
  "language_info": {
   "codemirror_mode": {
    "name": "ipython",
    "version": 3
   },
   "file_extension": ".py",
   "mimetype": "text/x-python",
   "name": "python",
   "nbconvert_exporter": "python",
   "pygments_lexer": "ipython3",
   "version": "3.8.8"
  }
 },
 "nbformat": 4,
 "nbformat_minor": 5
}
