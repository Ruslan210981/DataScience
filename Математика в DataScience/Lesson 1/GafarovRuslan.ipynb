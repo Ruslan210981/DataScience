{
 "cells": [
  {
   "cell_type": "code",
   "execution_count": 13,
   "id": "fb000ee6",
   "metadata": {},
   "outputs": [
    {
     "data": {
      "image/png": "[encoded data removed]",
      "text/plain": [
       "<Figure size 432x288 with 1 Axes>"
      ]
     },
     "metadata": {
      "needs_background": "light"
     },
     "output_type": "display_data"
    }
   ],
   "source": [
    "import numpy as np\n",
    "import matplotlib.pyplot as plt\n",
    "x = np.array([1,1])\n",
    "y = np.array([2,0])\n",
    "z = np.array([0,2])\n",
    "plt.figure()\n",
    "plt.plot(x[0],x[1], 'r*')\n",
    "#plt.show()\n",
    "plt.plot(y[0],y[1], 'b*')\n",
    "#plt.show()\n",
    "plt.plot(z[0],z[1], 'g*')\n",
    "plt.show()\n"
   ]
  },
  {
   "cell_type": "code",
   "execution_count": 16,
   "id": "31c2427d",
   "metadata": {},
   "outputs": [
    {
     "data": {
      "image/png": "[encoded data removed]",
      "text/plain": [
       "<Figure size 432x288 with 1 Axes>"
      ]
     },
     "metadata": {
      "needs_background": "light"
     },
     "output_type": "display_data"
    }
   ],
   "source": [
    "sum = x + y + z\n",
    "plt.plot(sum[0],sum[1], 'b*')\n",
    "plt.show()"
   ]
  },
  {
   "cell_type": "code",
   "execution_count": 29,
   "id": "72a12120",
   "metadata": {},
   "outputs": [
    {
     "name": "stdout",
     "output_type": "stream",
     "text": [
      "Угол между векторами равен 45.000000 градусов\n"
     ]
    }
   ],
   "source": [
    "#найдем угол между векторами х и у\n",
    "с = np.arccos(np.dot(x,y)/(np.linalg.norm(x)*np.linalg.norm(y)))\n",
    "print(\"Угол между векторами равен %f градусов\"%(np.rad2deg(с)))"
   ]
  },
  {
   "cell_type": "code",
   "execution_count": 34,
   "id": "70e5aed9",
   "metadata": {},
   "outputs": [
    {
     "data": {
      "text/plain": [
       "array([[ 2,  4,  4],\n",
       "       [ 7,  6, 10],\n",
       "       [ 8, 13, 10]])"
      ]
     },
     "execution_count": 34,
     "metadata": {},
     "output_type": "execute_result"
    }
   ],
   "source": [
    "sqr = np.array([[1, 2, 3], [4, 5, 6], [7, 8, 9]])\n",
    "ed  = np.array([[1, 2, 1], [3, 1, 4], [1, 5, 1]])\n",
    "v   = np.array([1,2,3])\n",
    "sqr_ed = sqr + ed\n",
    "sqr_ed"
   ]
  },
  {
   "cell_type": "code",
   "execution_count": 35,
   "id": "1e891c71",
   "metadata": {},
   "outputs": [
    {
     "data": {
      "text/plain": [
       "array([[ 2,  8, 12],\n",
       "       [ 7, 12, 30],\n",
       "       [ 8, 26, 30]])"
      ]
     },
     "execution_count": 35,
     "metadata": {},
     "output_type": "execute_result"
    }
   ],
   "source": [
    "sqr_ed * v"
   ]
  },
  {
   "cell_type": "code",
   "execution_count": 45,
   "id": "437e05ea",
   "metadata": {},
   "outputs": [
    {
     "name": "stdout",
     "output_type": "stream",
     "text": [
      "Значение первой производной в точке х = 1 равно:  132\n",
      "Значение второй производной в точке х = 1 равно:  612\n"
     ]
    }
   ],
   "source": [
    "import sympy as sym\n",
    "x = sym.Symbol('x')\n",
    "res = sym.diff((3*x*(x*x + x)**3),x,1)\n",
    "print(\"Значение первой производной в точке х = 1 равно: \",res.subs(x,1))\n",
    "res = sym.diff((3*x*(x*x + x)**3),x,2)\n",
    "print(\"Значение второй производной в точке х = 1 равно: \",res.subs(x,1))"
   ]
  }
 ],
 "metadata": {
  "kernelspec": {
   "display_name": "Python 3 (ipykernel)",
   "language": "python",
   "name": "python3"
  },
  "language_info": {
   "codemirror_mode": {
    "name": "ipython",
    "version": 3
   },
   "file_extension": ".py",
   "mimetype": "text/x-python",
   "name": "python",
   "nbconvert_exporter": "python",
   "pygments_lexer": "ipython3",
   "version": "3.9.12"
  }
 },
 "nbformat": 4,
 "nbformat_minor": 5
}
