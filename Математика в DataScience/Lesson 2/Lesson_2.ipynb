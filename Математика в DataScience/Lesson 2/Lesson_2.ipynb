{
 "cells": [
  {
   "cell_type": "code",
   "execution_count": 38,
   "id": "b5cce0f5",
   "metadata": {},
   "outputs": [
    {
     "data": {
      "text/plain": [
       "array([[1, 2, 3, 4, 6],\n",
       "       [3, 4, 1, 6, 7],\n",
       "       [2, 3, 4, 5, 1],\n",
       "       [1, 5, 0, 2, 8],\n",
       "       [5, 6, 2, 1, 4]])"
      ]
     },
     "execution_count": 38,
     "metadata": {},
     "output_type": "execute_result"
    }
   ],
   "source": [
    "import numpy as np\n",
    "import matplotlib.pyplot as plt\n",
    "import sympy as sym\n",
    "A1 = np.array([[1,2,3,4,6],[3,4,1,6,7],[2,3,4,5,1],[1,5,0,2,8],[5,6,2,1,4]])\n",
    "A1"
   ]
  },
  {
   "cell_type": "code",
   "execution_count": 41,
   "id": "46e12e2a",
   "metadata": {
    "scrolled": true
   },
   "outputs": [
    {
     "data": {
      "text/plain": [
       "array([[1, 3, 2, 1, 5],\n",
       "       [2, 4, 3, 5, 6],\n",
       "       [3, 1, 4, 0, 2],\n",
       "       [4, 6, 5, 2, 1],\n",
       "       [6, 7, 1, 8, 4]])"
      ]
     },
     "execution_count": 41,
     "metadata": {},
     "output_type": "execute_result"
    }
   ],
   "source": [
    "# транспонируем матрицу\n",
    "A1.transpose()"
   ]
  },
  {
   "cell_type": "code",
   "execution_count": 42,
   "id": "f4a063c8",
   "metadata": {},
   "outputs": [
    {
     "data": {
      "text/plain": [
       "1748.0"
      ]
     },
     "execution_count": 42,
     "metadata": {},
     "output_type": "execute_result"
    }
   ],
   "source": [
    "# найдем определитель матрицы\n",
    "np.linalg.det(A1)"
   ]
  },
  {
   "cell_type": "code",
   "execution_count": 40,
   "id": "3dabface",
   "metadata": {},
   "outputs": [
    {
     "data": {
      "text/plain": [
       "array([[ 0.0875286 ,  0.19851259, -0.22368421, -0.31979405,  0.21681922],\n",
       "       [-0.27173913, -0.11956522,  0.25      ,  0.29347826, -0.0326087 ],\n",
       "       [ 0.27860412, -0.23741419,  0.06578947, -0.04405034,  0.06922197],\n",
       "       [-0.13329519,  0.18135011,  0.11842105, -0.0097254 , -0.12757437],\n",
       "       [ 0.19221968,  0.00457666, -0.15789474, -0.01601831,  0.02517162]])"
      ]
     },
     "execution_count": 40,
     "metadata": {},
     "output_type": "execute_result"
    }
   ],
   "source": [
    "# определитель получилcя не нулевой, значит можем найти обратную матрицу\n",
    "np.linalg.inv(A1)"
   ]
  },
  {
   "cell_type": "code",
   "execution_count": 53,
   "id": "ac8aa626",
   "metadata": {},
   "outputs": [
    {
     "data": {
      "text/plain": [
       "5"
      ]
     },
     "execution_count": 53,
     "metadata": {},
     "output_type": "execute_result"
    }
   ],
   "source": [
    "# определим ранг\n",
    "np.linalg.matrix_rank(A1)\n"
   ]
  },
  {
   "cell_type": "code",
   "execution_count": 54,
   "id": "615bdd24",
   "metadata": {},
   "outputs": [
    {
     "data": {
      "text/plain": [
       "(array([17.75822893+0.j        ,  1.47806224+2.23891839j,\n",
       "         1.47806224-2.23891839j, -2.8571767 +2.3479179j ,\n",
       "        -2.8571767 -2.3479179j ]),\n",
       " array([[ 0.40210831+0.j        ,  0.12012259-0.33112571j,\n",
       "          0.12012259+0.33112571j,  0.39428419-0.23933305j,\n",
       "          0.39428419+0.23933305j],\n",
       "        [ 0.54227897+0.j        , -0.19223905+0.36848161j,\n",
       "         -0.19223905-0.36848161j, -0.17036738-0.38075154j,\n",
       "         -0.17036738+0.38075154j],\n",
       "        [ 0.36882788+0.j        ,  0.68026579+0.j        ,\n",
       "          0.68026579-0.j        , -0.37878971+0.04663815j,\n",
       "         -0.37878971-0.04663815j],\n",
       "        [ 0.4351003 +0.j        , -0.28527563+0.27328901j,\n",
       "         -0.28527563-0.27328901j,  0.49017464+0.j        ,\n",
       "          0.49017464-0.j        ],\n",
       "        [ 0.46786338+0.j        ,  0.04726212-0.28657888j,\n",
       "          0.04726212+0.28657888j, -0.24041402+0.41174757j,\n",
       "         -0.24041402-0.41174757j]]))"
      ]
     },
     "execution_count": 54,
     "metadata": {},
     "output_type": "execute_result"
    }
   ],
   "source": [
    "# определим собственные значения\n",
    "np.linalg.eig(A1)"
   ]
  },
  {
   "cell_type": "code",
   "execution_count": 47,
   "id": "09394a6f",
   "metadata": {},
   "outputs": [
    {
     "data": {
      "text/plain": [
       "array([[1., 0., 0., 0.],\n",
       "       [0., 3., 0., 0.],\n",
       "       [0., 0., 2., 0.],\n",
       "       [0., 0., 0., 1.]])"
      ]
     },
     "execution_count": 47,
     "metadata": {},
     "output_type": "execute_result"
    }
   ],
   "source": [
    "# создадим диагональную матрицу\n",
    "I = np.eye(4)\n",
    "A2 = np.array([[1,2,3,4],[2,3,4,5],[0,1,2,3],[4,3,2,1]])\n",
    "A_diag = I*A2\n",
    "A_diag"
   ]
  },
  {
   "cell_type": "code",
   "execution_count": 55,
   "id": "1d09608d",
   "metadata": {},
   "outputs": [
    {
     "data": {
      "text/plain": [
       "4"
      ]
     },
     "execution_count": 55,
     "metadata": {},
     "output_type": "execute_result"
    }
   ],
   "source": [
    "# определим ранг\n",
    "\n",
    "np.linalg.matrix_rank(A_diag)\n"
   ]
  },
  {
   "cell_type": "code",
   "execution_count": 56,
   "id": "182fefc7",
   "metadata": {},
   "outputs": [
    {
     "data": {
      "text/plain": [
       "(array([1., 3., 2., 1.]),\n",
       " array([[1., 0., 0., 0.],\n",
       "        [0., 1., 0., 0.],\n",
       "        [0., 0., 1., 0.],\n",
       "        [0., 0., 0., 1.]]))"
      ]
     },
     "execution_count": 56,
     "metadata": {},
     "output_type": "execute_result"
    }
   ],
   "source": [
    "# определим собственные значения\n",
    "np.linalg.eig(A_diag)"
   ]
  },
  {
   "cell_type": "code",
   "execution_count": 57,
   "id": "333ab56f",
   "metadata": {},
   "outputs": [
    {
     "data": {
      "text/plain": [
       "6.0"
      ]
     },
     "execution_count": 57,
     "metadata": {},
     "output_type": "execute_result"
    }
   ],
   "source": [
    "# найдем определитель матрицы\n",
    "np.linalg.det(A_diag)"
   ]
  },
  {
   "cell_type": "code",
   "execution_count": 48,
   "id": "4b2833db",
   "metadata": {},
   "outputs": [
    {
     "data": {
      "text/plain": [
       "array([[0., 0., 0., 0.],\n",
       "       [0., 0., 0., 0.],\n",
       "       [0., 0., 0., 0.],\n",
       "       [0., 0., 0., 0.]])"
      ]
     },
     "execution_count": 48,
     "metadata": {},
     "output_type": "execute_result"
    }
   ],
   "source": [
    "#создадим нулевую матрицу\n",
    "A_Z = np.zeros([4,4])\n",
    "A_Z"
   ]
  },
  {
   "cell_type": "code",
   "execution_count": 58,
   "id": "3724c78b",
   "metadata": {},
   "outputs": [
    {
     "data": {
      "text/plain": [
       "0"
      ]
     },
     "execution_count": 58,
     "metadata": {},
     "output_type": "execute_result"
    }
   ],
   "source": [
    "# определим ранг\n",
    "\n",
    "np.linalg.matrix_rank(A_Z)\n"
   ]
  },
  {
   "cell_type": "code",
   "execution_count": 59,
   "id": "6ee632bd",
   "metadata": {},
   "outputs": [
    {
     "data": {
      "text/plain": [
       "(array([0., 0., 0., 0.]),\n",
       " array([[1., 0., 0., 0.],\n",
       "        [0., 1., 0., 0.],\n",
       "        [0., 0., 1., 0.],\n",
       "        [0., 0., 0., 1.]]))"
      ]
     },
     "execution_count": 59,
     "metadata": {},
     "output_type": "execute_result"
    }
   ],
   "source": [
    "# определим собственные значения\n",
    "np.linalg.eig(A_Z)"
   ]
  },
  {
   "cell_type": "code",
   "execution_count": 60,
   "id": "f64b83c0",
   "metadata": {},
   "outputs": [
    {
     "data": {
      "text/plain": [
       "0.0"
      ]
     },
     "execution_count": 60,
     "metadata": {},
     "output_type": "execute_result"
    }
   ],
   "source": [
    "# найдем определитель матрицы\n",
    "np.linalg.det(A_Z)"
   ]
  }
 ],
 "metadata": {
  "kernelspec": {
   "display_name": "Python 3 (ipykernel)",
   "language": "python",
   "name": "python3"
  },
  "language_info": {
   "codemirror_mode": {
    "name": "ipython",
    "version": 3
   },
   "file_extension": ".py",
   "mimetype": "text/x-python",
   "name": "python",
   "nbconvert_exporter": "python",
   "pygments_lexer": "ipython3",
   "version": "3.9.12"
  }
 },
 "nbformat": 4,
 "nbformat_minor": 5
}
