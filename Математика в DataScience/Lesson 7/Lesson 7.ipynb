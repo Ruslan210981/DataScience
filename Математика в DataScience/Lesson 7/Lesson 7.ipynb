{
 "cells": [
  {
   "cell_type": "markdown",
   "metadata": {},
   "source": [
    "## Домашнее задание №6 - Продвинутая оптимизация"
   ]
  },
  {
   "cell_type": "markdown",
   "metadata": {},
   "source": [
    "### Задание"
   ]
  },
  {
   "cell_type": "markdown",
   "metadata": {},
   "source": [
    "Проведите следующий эксперимент: для функции Растригина найдите среднее и минимальное значение целевой функции по результатам 100 запусков процесса минимизации, а также среднее число итераций при случайных начальных условиях в диапазоне [-5, 5]. Эксперимент необходимо провести для размерностей 2, 3, 4.\n",
    "\n",
    "\n",
    "$$f(x) = An + \\sum_{i=1}^n (x_i^2-Acos(2\\pi x_i)$$"
   ]
  },
  {
   "cell_type": "markdown",
   "metadata": {},
   "source": [
    "Целью данного вычислительного эксперимента является выбор наиболее эффективного метода для данной задачи. Исследование нужно выполнить с использованием метода Дифферециальной эволюции (значения параметра recombination $0.3$ и $0.7$), а также встроенных методов функции Minimize: \n",
    "\n",
    "* ‘Nelder-Mead’ [подробнее](https://docs.scipy.org/doc/scipy/reference/optimize.minimize-neldermead.html#optimize-minimize-neldermead)\n",
    "* ‘BFGS’ [подробнее](https://docs.scipy.org/doc/scipy/reference/optimize.minimize-bfgs.html#optimize-minimize-bfgs)\n",
    "* ‘Newton-CG’ [подробнее](https://docs.scipy.org/doc/scipy/reference/optimize.minimize-newtoncg.html#optimize-minimize-newtoncg)"
   ]
  },
  {
   "cell_type": "markdown",
   "metadata": {},
   "source": [
    "Всего получается пять экспериментов. Вы также можете поэкспериментировать с [другими методами оптимизации](https://habr.com/ru/company/prequel/blog/568496/), но это не обязательно для зачета.\n"
   ]
  },
  {
   "cell_type": "markdown",
   "metadata": {},
   "source": [
    "# Минимизации методом Nelder-Mead для размерностей 2,3 и 4"
   ]
  },
  {
   "cell_type": "code",
   "execution_count": 152,
   "metadata": {},
   "outputs": [
    {
     "name": "stdout",
     "output_type": "stream",
     "text": [
      "Среднее число итераций:  61.54\n",
      "Минимальное значение целевой функции:  -9.00504094290671\n",
      "Среднее значение целевой функции:  9.341874109513007\n"
     ]
    }
   ],
   "source": [
    "### YOUR CODE HERE\n",
    "from scipy.optimize import minimize\n",
    "import sympy as sym\n",
    "import math\n",
    "import numpy as np\n",
    "\n",
    "def rastrigin(*X):\n",
    "    return 10*len(X) + np.sum([(x**2 - 10 * np.cos(2 * math.pi * x)) for x in X])\n",
    "\n",
    "itList = []\n",
    "itFun = []\n",
    "\n",
    "for k in range(100):\n",
    "    x0 = np.random.uniform(-5,5,2)\n",
    "    res = minimize(rastrigin, x0, method = 'Nelder-Mead', options = {'xtol':1e-8, 'disp':False})\n",
    "    itList.append(res.nit)\n",
    "    itFun.append(res.fun)\n",
    "print(\"Среднее число итераций: \",np.mean(itList))\n",
    "print(\"Минимальное значение целевой функции: \",np.min(itFun))\n",
    "print(\"Среднее значение целевой функции: \",np.mean(itFun))"
   ]
  },
  {
   "cell_type": "code",
   "execution_count": 105,
   "metadata": {},
   "outputs": [
    {
     "name": "stdout",
     "output_type": "stream",
     "text": [
      "Среднее число итераций:  114.2\n",
      "Минимальное значение целевой функции:  -19.00504094290671\n",
      "Среднее значение целевой функции:  6.833869355320384\n"
     ]
    }
   ],
   "source": [
    "itList = []\n",
    "itFun = []\n",
    "for k in range(100):\n",
    "    x0 = np.random.uniform(-5,5,3)\n",
    "    res = minimize(rastrigin, x0, method = 'Nelder-Mead', options = {'xtol':1e-8, 'disp':False})\n",
    "    itList.append(res.nit)\n",
    "    itFun.append(res.fun)\n",
    "print(\"Среднее число итераций: \",np.mean(itList))\n",
    "print(\"Минимальное значение целевой функции: \",np.min(itFun))\n",
    "print(\"Среднее значение целевой функции: \",np.mean(itFun))"
   ]
  },
  {
   "cell_type": "code",
   "execution_count": 106,
   "metadata": {
    "scrolled": false
   },
   "outputs": [
    {
     "name": "stdout",
     "output_type": "stream",
     "text": [
      "Среднее число итераций:  180.55\n",
      "Минимальное значение целевой функции:  -28.010081885813413\n",
      "Среднее значение целевой функции:  3.8383489265076425\n"
     ]
    }
   ],
   "source": [
    "itList = []\n",
    "itFun = []\n",
    "for k in range(100):\n",
    "    x0 = np.random.uniform(-5,5,4)\n",
    "    res = minimize(rastrigin, x0, method = 'Nelder-Mead', options = {'xtol':1e-8, 'disp':False})\n",
    "    itList.append(res.nit)\n",
    "    itFun.append(res.fun)\n",
    "print(\"Среднее число итераций: \",np.mean(itList))\n",
    "print(\"Минимальное значение целевой функции: \",np.min(itFun))\n",
    "print(\"Среднее значение целевой функции: \",np.mean(itFun))"
   ]
  },
  {
   "cell_type": "markdown",
   "metadata": {},
   "source": [
    "# Минимизации методом BFGS для размерностей 2,3 и 4"
   ]
  },
  {
   "cell_type": "code",
   "execution_count": 148,
   "metadata": {},
   "outputs": [
    {
     "name": "stdout",
     "output_type": "stream",
     "text": [
      "Среднее число итераций:  7.08\n",
      "Минимальное значение целевой функции:  -9.999999999988805\n",
      "Среднее значение целевой функции:  7.421619743936699\n"
     ]
    }
   ],
   "source": [
    "itList = []\n",
    "itFun = []\n",
    "for k in range(100):\n",
    "    x0 = np.random.uniform(-5,5,2)\n",
    "    res = minimize(rastrigin, x0, method = 'BFGS', options = {'gtol': 1e-04, 'disp':False})\n",
    "    itList.append(res.nit)\n",
    "    itFun.append(res.fun)\n",
    "print(\"Среднее число итераций: \",np.mean(itList))\n",
    "print(\"Минимальное значение целевой функции: \",np.min(itFun))\n",
    "print(\"Среднее значение целевой функции: \",np.mean(itFun))"
   ]
  },
  {
   "cell_type": "code",
   "execution_count": 109,
   "metadata": {},
   "outputs": [
    {
     "name": "stdout",
     "output_type": "stream",
     "text": [
      "Среднее число итераций:  9.59\n",
      "Минимальное значение целевой функции:  -19.00504094290629\n",
      "Среднее значение целевой функции:  5.222044287381964\n"
     ]
    }
   ],
   "source": [
    "itList = []\n",
    "itFun = []\n",
    "for k in range(100):\n",
    "    x0 = np.random.uniform(-5,5,3)\n",
    "    res = minimize(rastrigin, x0, method = 'BFGS', options = {'gtol': 1e-04, 'disp':False})\n",
    "    itList.append(res.nit)\n",
    "    itFun.append(res.fun)\n",
    "print(\"Среднее число итераций: \",np.mean(itList))\n",
    "print(\"Минимальное значение целевой функции: \",np.min(itFun))\n",
    "print(\"Среднее значение целевой функции: \",np.mean(itFun))"
   ]
  },
  {
   "cell_type": "code",
   "execution_count": 173,
   "metadata": {
    "scrolled": true
   },
   "outputs": [
    {
     "name": "stdout",
     "output_type": "stream",
     "text": [
      "Среднее число итераций:  11.86\n",
      "Минимальное значение целевой функции:  -28.0100818858106\n",
      "Среднее значение целевой функции:  2.8334435338233677\n"
     ]
    }
   ],
   "source": [
    "itList = []\n",
    "itFun = []\n",
    "for k in range(100):\n",
    "    x0 = np.random.uniform(-5,5,4)\n",
    "    res = minimize(rastrigin, x0, method = 'BFGS', options = {'gtol': 1e-04, 'disp':False})\n",
    "    itList.append(res.nit)\n",
    "    itFun.append(res.fun)\n",
    "print(\"Среднее число итераций: \",np.mean(itList))\n",
    "print(\"Минимальное значение целевой функции: \",np.min(itFun))\n",
    "print(\"Среднее значение целевой функции: \",np.mean(itFun))"
   ]
  },
  {
   "cell_type": "markdown",
   "metadata": {},
   "source": [
    "# Минимизации методом Newton-CG для размерностей 2,3 и 4"
   ]
  },
  {
   "cell_type": "code",
   "execution_count": 191,
   "metadata": {},
   "outputs": [
    {
     "data": {
      "text/plain": [
       "[32.7040250752731, -60.4424953744429, -51.4044753116249, 46.7305615281732]"
      ]
     },
     "execution_count": 191,
     "metadata": {},
     "output_type": "execute_result"
    }
   ],
   "source": [
    "def rastr_der(X):\n",
    "    ff = (x**2 - 10 * cos(2 * math.pi * x))\n",
    "    der = [sym.diff(ff,x).subs(x,x1) for x1 in X]\n",
    "    return der\n",
    "rastr_der(x0)"
   ]
  },
  {
   "cell_type": "code",
   "execution_count": 199,
   "metadata": {
    "scrolled": true
   },
   "outputs": [
    {
     "ename": "TypeError",
     "evalue": "loop of ufunc does not support argument 0 of type Zero which has no callable sqrt method",
     "output_type": "error",
     "traceback": [
      "\u001b[1;31m---------------------------------------------------------------------------\u001b[0m",
      "\u001b[1;31mAttributeError\u001b[0m                            Traceback (most recent call last)",
      "\u001b[1;31mAttributeError\u001b[0m: 'Zero' object has no attribute 'sqrt'",
      "\nThe above exception was the direct cause of the following exception:\n",
      "\u001b[1;31mTypeError\u001b[0m                                 Traceback (most recent call last)",
      "\u001b[1;32m<ipython-input-199-b0edd687059b>\u001b[0m in \u001b[0;36m<module>\u001b[1;34m\u001b[0m\n\u001b[0;32m      6\u001b[0m \u001b[1;32mfor\u001b[0m \u001b[0mk\u001b[0m \u001b[1;32min\u001b[0m \u001b[0mrange\u001b[0m\u001b[1;33m(\u001b[0m\u001b[1;36m100\u001b[0m\u001b[1;33m)\u001b[0m\u001b[1;33m:\u001b[0m\u001b[1;33m\u001b[0m\u001b[1;33m\u001b[0m\u001b[0m\n\u001b[0;32m      7\u001b[0m     \u001b[0mx0\u001b[0m \u001b[1;33m=\u001b[0m \u001b[0mnp\u001b[0m\u001b[1;33m.\u001b[0m\u001b[0mrandom\u001b[0m\u001b[1;33m.\u001b[0m\u001b[0muniform\u001b[0m\u001b[1;33m(\u001b[0m\u001b[1;33m-\u001b[0m\u001b[1;36m5\u001b[0m\u001b[1;33m,\u001b[0m\u001b[1;36m5\u001b[0m\u001b[1;33m,\u001b[0m\u001b[1;36m4\u001b[0m\u001b[1;33m)\u001b[0m\u001b[1;33m\u001b[0m\u001b[1;33m\u001b[0m\u001b[0m\n\u001b[1;32m----> 8\u001b[1;33m     \u001b[0mres\u001b[0m \u001b[1;33m=\u001b[0m \u001b[0mminimize\u001b[0m\u001b[1;33m(\u001b[0m\u001b[0mrastrigin\u001b[0m\u001b[1;33m,\u001b[0m \u001b[0mx0\u001b[0m\u001b[1;33m,\u001b[0m \u001b[0mmethod\u001b[0m \u001b[1;33m=\u001b[0m \u001b[1;34m'Newton-CG'\u001b[0m\u001b[1;33m,\u001b[0m \u001b[0mjac\u001b[0m \u001b[1;33m=\u001b[0m \u001b[0mrastr_der\u001b[0m\u001b[1;33m,\u001b[0m \u001b[0moptions\u001b[0m \u001b[1;33m=\u001b[0m \u001b[1;33m{\u001b[0m\u001b[1;34m'xtol'\u001b[0m\u001b[1;33m:\u001b[0m \u001b[1;36m1e-04\u001b[0m\u001b[1;33m,\u001b[0m \u001b[1;34m'disp'\u001b[0m\u001b[1;33m:\u001b[0m\u001b[1;32mFalse\u001b[0m\u001b[1;33m}\u001b[0m\u001b[1;33m)\u001b[0m\u001b[1;33m\u001b[0m\u001b[1;33m\u001b[0m\u001b[0m\n\u001b[0m\u001b[0;32m      9\u001b[0m     \u001b[0mitList\u001b[0m\u001b[1;33m.\u001b[0m\u001b[0mappend\u001b[0m\u001b[1;33m(\u001b[0m\u001b[0mres\u001b[0m\u001b[1;33m.\u001b[0m\u001b[0mnit\u001b[0m\u001b[1;33m)\u001b[0m\u001b[1;33m\u001b[0m\u001b[1;33m\u001b[0m\u001b[0m\n\u001b[0;32m     10\u001b[0m     \u001b[0mitFun\u001b[0m\u001b[1;33m.\u001b[0m\u001b[0mappend\u001b[0m\u001b[1;33m(\u001b[0m\u001b[0mres\u001b[0m\u001b[1;33m.\u001b[0m\u001b[0mfun\u001b[0m\u001b[1;33m)\u001b[0m\u001b[1;33m\u001b[0m\u001b[1;33m\u001b[0m\u001b[0m\n",
      "\u001b[1;32m~\\anaconda3\\lib\\site-packages\\scipy\\optimize\\_minimize.py\u001b[0m in \u001b[0;36mminimize\u001b[1;34m(fun, x0, args, method, jac, hess, hessp, bounds, constraints, tol, callback, options)\u001b[0m\n\u001b[0;32m    614\u001b[0m         \u001b[1;32mreturn\u001b[0m \u001b[0m_minimize_bfgs\u001b[0m\u001b[1;33m(\u001b[0m\u001b[0mfun\u001b[0m\u001b[1;33m,\u001b[0m \u001b[0mx0\u001b[0m\u001b[1;33m,\u001b[0m \u001b[0margs\u001b[0m\u001b[1;33m,\u001b[0m \u001b[0mjac\u001b[0m\u001b[1;33m,\u001b[0m \u001b[0mcallback\u001b[0m\u001b[1;33m,\u001b[0m \u001b[1;33m**\u001b[0m\u001b[0moptions\u001b[0m\u001b[1;33m)\u001b[0m\u001b[1;33m\u001b[0m\u001b[1;33m\u001b[0m\u001b[0m\n\u001b[0;32m    615\u001b[0m     \u001b[1;32melif\u001b[0m \u001b[0mmeth\u001b[0m \u001b[1;33m==\u001b[0m \u001b[1;34m'newton-cg'\u001b[0m\u001b[1;33m:\u001b[0m\u001b[1;33m\u001b[0m\u001b[1;33m\u001b[0m\u001b[0m\n\u001b[1;32m--> 616\u001b[1;33m         return _minimize_newtoncg(fun, x0, args, jac, hess, hessp, callback,\n\u001b[0m\u001b[0;32m    617\u001b[0m                                   **options)\n\u001b[0;32m    618\u001b[0m     \u001b[1;32melif\u001b[0m \u001b[0mmeth\u001b[0m \u001b[1;33m==\u001b[0m \u001b[1;34m'l-bfgs-b'\u001b[0m\u001b[1;33m:\u001b[0m\u001b[1;33m\u001b[0m\u001b[1;33m\u001b[0m\u001b[0m\n",
      "\u001b[1;32m~\\anaconda3\\lib\\site-packages\\scipy\\optimize\\optimize.py\u001b[0m in \u001b[0;36m_minimize_newtoncg\u001b[1;34m(fun, x0, args, jac, hess, hessp, callback, xtol, eps, maxiter, disp, return_all, **unknown_options)\u001b[0m\n\u001b[0;32m   1760\u001b[0m         \u001b[0mb\u001b[0m \u001b[1;33m=\u001b[0m \u001b[1;33m-\u001b[0m\u001b[0mfprime\u001b[0m\u001b[1;33m(\u001b[0m\u001b[0mxk\u001b[0m\u001b[1;33m)\u001b[0m\u001b[1;33m\u001b[0m\u001b[1;33m\u001b[0m\u001b[0m\n\u001b[0;32m   1761\u001b[0m         \u001b[0mmaggrad\u001b[0m \u001b[1;33m=\u001b[0m \u001b[0mnp\u001b[0m\u001b[1;33m.\u001b[0m\u001b[0madd\u001b[0m\u001b[1;33m.\u001b[0m\u001b[0mreduce\u001b[0m\u001b[1;33m(\u001b[0m\u001b[0mnp\u001b[0m\u001b[1;33m.\u001b[0m\u001b[0mabs\u001b[0m\u001b[1;33m(\u001b[0m\u001b[0mb\u001b[0m\u001b[1;33m)\u001b[0m\u001b[1;33m)\u001b[0m\u001b[1;33m\u001b[0m\u001b[1;33m\u001b[0m\u001b[0m\n\u001b[1;32m-> 1762\u001b[1;33m         \u001b[0meta\u001b[0m \u001b[1;33m=\u001b[0m \u001b[0mnp\u001b[0m\u001b[1;33m.\u001b[0m\u001b[0mmin\u001b[0m\u001b[1;33m(\u001b[0m\u001b[1;33m[\u001b[0m\u001b[1;36m0.5\u001b[0m\u001b[1;33m,\u001b[0m \u001b[0mnp\u001b[0m\u001b[1;33m.\u001b[0m\u001b[0msqrt\u001b[0m\u001b[1;33m(\u001b[0m\u001b[0mmaggrad\u001b[0m\u001b[1;33m)\u001b[0m\u001b[1;33m]\u001b[0m\u001b[1;33m)\u001b[0m\u001b[1;33m\u001b[0m\u001b[1;33m\u001b[0m\u001b[0m\n\u001b[0m\u001b[0;32m   1763\u001b[0m         \u001b[0mtermcond\u001b[0m \u001b[1;33m=\u001b[0m \u001b[0meta\u001b[0m \u001b[1;33m*\u001b[0m \u001b[0mmaggrad\u001b[0m\u001b[1;33m\u001b[0m\u001b[1;33m\u001b[0m\u001b[0m\n\u001b[0;32m   1764\u001b[0m         \u001b[0mxsupi\u001b[0m \u001b[1;33m=\u001b[0m \u001b[0mzeros\u001b[0m\u001b[1;33m(\u001b[0m\u001b[0mlen\u001b[0m\u001b[1;33m(\u001b[0m\u001b[0mx0\u001b[0m\u001b[1;33m)\u001b[0m\u001b[1;33m,\u001b[0m \u001b[0mdtype\u001b[0m\u001b[1;33m=\u001b[0m\u001b[0mx0\u001b[0m\u001b[1;33m.\u001b[0m\u001b[0mdtype\u001b[0m\u001b[1;33m)\u001b[0m\u001b[1;33m\u001b[0m\u001b[1;33m\u001b[0m\u001b[0m\n",
      "\u001b[1;31mTypeError\u001b[0m: loop of ufunc does not support argument 0 of type Zero which has no callable sqrt method"
     ]
    }
   ],
   "source": [
    "itList = []\n",
    "itFun = []\n",
    "\n",
    "\n",
    "\n",
    "for k in range(100):\n",
    "    x0 = np.random.uniform(-5,5,4)\n",
    "    res = minimize(rastrigin, x0, method = 'Newton-CG', jac = rastr_der, options = {'xtol': 1e-04, 'disp':False})\n",
    "    itList.append(res.nit)\n",
    "    itFun.append(res.fun)\n",
    "print(\"Среднее число итераций: \",np.mean(itList))\n",
    "print(\"Минимальное значение целевой функции: \",np.min(itFun))\n",
    "print(\"Среднее значение целевой функции: \",np.mean(itFun))"
   ]
  },
  {
   "cell_type": "code",
   "execution_count": null,
   "metadata": {},
   "outputs": [],
   "source": []
  }
 ],
 "metadata": {
  "kernelspec": {
   "display_name": "Python 3",
   "language": "python",
   "name": "python3"
  },
  "language_info": {
   "codemirror_mode": {
    "name": "ipython",
    "version": 3
   },
   "file_extension": ".py",
   "mimetype": "text/x-python",
   "name": "python",
   "nbconvert_exporter": "python",
   "pygments_lexer": "ipython3",
   "version": "3.8.8"
  }
 },
 "nbformat": 4,
 "nbformat_minor": 2
}
