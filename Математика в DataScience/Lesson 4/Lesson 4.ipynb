{
 "cells": [
  {
   "cell_type": "code",
   "execution_count": 8,
   "id": "776a6fd1",
   "metadata": {},
   "outputs": [
    {
     "name": "stdout",
     "output_type": "stream",
     "text": [
      "2.50907180221964\n",
      "-3.19029140906420\n"
     ]
    }
   ],
   "source": [
    "#Домашнее задание №3 - Функции одной переменной\n",
    "#Задание 1.\n",
    "\n",
    "#Вычислить значения первой и второй производной функции:\n",
    "from sympy import *\n",
    "x = Symbol('x')\n",
    "f1 = (x**5 + 4*sin(2*x)+cos(3*x + 3)).diff(x)\n",
    "print(f1.subs(x,1.0))\n",
    "\n",
    "f2 = f1.diff(x)\n",
    "print(f2.subs(x,1.0))\n",
    "\n",
    "#в точке x = 1."
   ]
  },
  {
   "cell_type": "code",
   "execution_count": 10,
   "id": "8b2b5317",
   "metadata": {},
   "outputs": [
    {
     "name": "stdout",
     "output_type": "stream",
     "text": [
      "-0.00392632525355076\n",
      "0.219233937838113\n"
     ]
    }
   ],
   "source": [
    "f = sin(2*x+1)**5\n",
    "f1 = f.diff(x)\n",
    "print(f1.subs(x,1.0))\n",
    "\n",
    "f2 = f1.diff(x)\n",
    "print(f2.subs(x,1.0))"
   ]
  },
  {
   "cell_type": "code",
   "execution_count": null,
   "id": "a43dcd05",
   "metadata": {},
   "outputs": [],
   "source": []
  }
 ],
 "metadata": {
  "kernelspec": {
   "display_name": "Python 3",
   "language": "python",
   "name": "python3"
  },
  "language_info": {
   "codemirror_mode": {
    "name": "ipython",
    "version": 3
   },
   "file_extension": ".py",
   "mimetype": "text/x-python",
   "name": "python",
   "nbconvert_exporter": "python",
   "pygments_lexer": "ipython3",
   "version": "3.8.8"
  }
 },
 "nbformat": 4,
 "nbformat_minor": 5
}
