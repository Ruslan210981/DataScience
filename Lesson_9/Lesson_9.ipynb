{
 "cells": [
  {
   "cell_type": "markdown",
   "id": "95440098",
   "metadata": {},
   "source": [
    "# Задание 1\n",
    "Скачайте с сайта grouplens.org...movielens/ датасет любого размера. Определите какому фильму было выставлено больше всего оценок 5.0."
   ]
  },
  {
   "cell_type": "code",
   "execution_count": 2,
   "id": "effae3f3",
   "metadata": {},
   "outputs": [
    {
     "name": "stdout",
     "output_type": "stream",
     "text": [
      "Фильм, которому поставили больше всего максимальных оценок: Shawshank Redemption, The (1994)\n"
     ]
    }
   ],
   "source": [
    "import pandas as pd\n",
    "data = pd.read_csv('ratings.csv')\n",
    "# сгруппируем по рейтингу, возьмем группу только с рейтингом 5.0 и посчитаем количество фильмов по id.\n",
    "# сверху окажется фильм с самым большим кол-ом, у него будет index = 0\n",
    "data = data.groupby(['rating']).get_group(5.0)['movieId'].value_counts()\n",
    "# далее открываем файл с наименованиями фильмов и ищем title с нужным id.\n",
    "data2 = pd.read_csv('movies.csv')\n",
    "data2 = data2[data2['movieId']==data.index[0]].title\n",
    "print(f\"Фильм, которому поставили больше всего максимальных оценок: {data2.values[0]}\")\n"
   ]
  },
  {
   "cell_type": "markdown",
   "id": "e40cc551",
   "metadata": {},
   "source": [
    "# Задание 2\n",
    "По данным файла power.csv посчитайте суммарное потребление стран Прибалтики (Латвия, Литва и Эстония) категорий 4, 12 и 21 за период с 2005 по 2010 года. Не учитывайте в расчетах отрицательные значения quantity."
   ]
  },
  {
   "cell_type": "code",
   "execution_count": 4,
   "id": "e46096a7",
   "metadata": {
    "scrolled": true
   },
   "outputs": [
    {
     "name": "stdout",
     "output_type": "stream",
     "text": [
      "Суммарное потребление стран Прибалтики: 240580.0\n"
     ]
    }
   ],
   "source": [
    "data = pd.read_csv('power.csv',index_col = \"country\")\n",
    "data\n",
    "data = data[data['quantity'] >= 0].loc[[\"Lithuania\",\"Estonia\",\"Latvia\"]]\n",
    "data = data.loc[(data['year'] >= 2005) & (data['year'] <= 2010) & (data['category'].isin([4,12,21]))]\n",
    "print(f\"Суммарное потребление стран Прибалтики: {data['quantity'].sum()}\")"
   ]
  },
  {
   "cell_type": "markdown",
   "id": "10665b53",
   "metadata": {},
   "source": [
    "# Задание 3\n",
    "Выберите страницу любого сайта с табличными данными. Импортируйте таблицы в pandas dataframe."
   ]
  },
  {
   "cell_type": "code",
   "execution_count": 362,
   "id": "dcd2b3b7",
   "metadata": {},
   "outputs": [
    {
     "data": {
      "text/html": [
       "<div>\n",
       "<style scoped>\n",
       "    .dataframe tbody tr th:only-of-type {\n",
       "        vertical-align: middle;\n",
       "    }\n",
       "\n",
       "    .dataframe tbody tr th {\n",
       "        vertical-align: top;\n",
       "    }\n",
       "\n",
       "    .dataframe thead th {\n",
       "        text-align: right;\n",
       "    }\n",
       "</style>\n",
       "<table border=\"1\" class=\"dataframe\">\n",
       "  <thead>\n",
       "    <tr style=\"text-align: right;\">\n",
       "      <th></th>\n",
       "      <th>Название валюты</th>\n",
       "      <th>Обозначение</th>\n",
       "      <th>Номинал</th>\n",
       "      <th>Курс</th>\n",
       "      <th>Изменение курса</th>\n",
       "    </tr>\n",
       "  </thead>\n",
       "  <tbody>\n",
       "    <tr>\n",
       "      <th>0</th>\n",
       "      <td>Доллар США</td>\n",
       "      <td>USD</td>\n",
       "      <td>1</td>\n",
       "      <td>74.0666</td>\n",
       "      <td>-0.2974</td>\n",
       "    </tr>\n",
       "    <tr>\n",
       "      <th>1</th>\n",
       "      <td>Евро</td>\n",
       "      <td>EUR</td>\n",
       "      <td>1</td>\n",
       "      <td>86.7838</td>\n",
       "      <td>-0.0808</td>\n",
       "    </tr>\n",
       "  </tbody>\n",
       "</table>\n",
       "</div>"
      ],
      "text/plain": [
       "  Название валюты Обозначение  Номинал     Курс  Изменение курса\n",
       "0      Доллар США         USD        1  74.0666          -0.2974\n",
       "1            Евро         EUR        1  86.7838          -0.0808"
      ]
     },
     "execution_count": 362,
     "metadata": {},
     "output_type": "execute_result"
    }
   ],
   "source": [
    "data = pd.read_html('http://currency.garant.ru')[4]\n",
    "data\n"
   ]
  }
 ],
 "metadata": {
  "kernelspec": {
   "display_name": "Python 3",
   "language": "python",
   "name": "python3"
  },
  "language_info": {
   "codemirror_mode": {
    "name": "ipython",
    "version": 3
   },
   "file_extension": ".py",
   "mimetype": "text/x-python",
   "name": "python",
   "nbconvert_exporter": "python",
   "pygments_lexer": "ipython3",
   "version": "3.8.8"
  }
 },
 "nbformat": 4,
 "nbformat_minor": 5
}
