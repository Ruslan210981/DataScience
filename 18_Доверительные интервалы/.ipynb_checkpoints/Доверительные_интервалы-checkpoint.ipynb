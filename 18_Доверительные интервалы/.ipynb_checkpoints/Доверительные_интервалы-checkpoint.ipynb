{
 "cells": [
  {
   "cell_type": "markdown",
   "id": "46096e4d",
   "metadata": {},
   "source": [
    "<div class=\"alert alert-info\">\n",
    "<b>Задание № 0</b>\n",
    "\n",
    "Найдите минимально необходимый объем выборки для построения интервальной оценки среднего.\n",
    "\n",
    "- желаемая точность $\\Delta$ = 3;\n",
    "- дисперсия $\\sigma^2$  = 225;\n",
    "- уровень доверия $\\beta$ = 0.95.\n",
    "    \n",
    "Ответ округлите до целого\n",
    "</div>"
   ]
  },
  {
   "cell_type": "code",
   "execution_count": 7,
   "id": "1e637329",
   "metadata": {},
   "outputs": [
    {
     "name": "stdout",
     "output_type": "stream",
     "text": [
      "Минимально необходимый объем выборки:  9\n"
     ]
    }
   ],
   "source": [
    "Δ = 3\n",
    "𝜎 = 15\n",
    "# Квантиль нормального распределения для уровня доверия 95% равен 1,96\n",
    "n = 𝜎 * 1.96/3\n",
    "print('Минимально необходимый объем выборки: ',int(n))"
   ]
  },
  {
   "cell_type": "markdown",
   "id": "33dfa577",
   "metadata": {},
   "source": [
    "<div class=\"alert alert-info\">\n",
    "<b>Задание № 1</b>\n",
    "\n",
    "Постройте `98% доверительный интервал` для среднего значения, если известно, что\n",
    "\n",
    "- объем выборки n = 25;\n",
    "- среднее значение по выборке $\\overline x$ = 130;\n",
    "- Из достоверных источников известно стандартное отклонение $\\sigma = 15$.\n",
    "    \n",
    "В ответ укажите длину полученного доверительного интервала (разницу между правым и левым концом), окруленную до целого\n",
    "</div>"
   ]
  },
  {
   "cell_type": "code",
   "execution_count": 24,
   "id": "bc1b8f8f",
   "metadata": {},
   "outputs": [
    {
     "name": "stdout",
     "output_type": "stream",
     "text": [
      "Длина полученного доверительного интервала  L =  13\n"
     ]
    }
   ],
   "source": [
    "import scipy.stats as st\n",
    "n = 25\n",
    "x = 130\n",
    "𝜎 = 15\n",
    "Δ = 𝜎 * 2.33/n ** (0.5)\n",
    "print('Длина полученного доверительного интервала  L = ',int(2*Δ))"
   ]
  },
  {
   "cell_type": "code",
   "execution_count": null,
   "id": "40274ee1",
   "metadata": {},
   "outputs": [],
   "source": []
  }
 ],
 "metadata": {
  "kernelspec": {
   "display_name": "Python 3",
   "language": "python",
   "name": "python3"
  },
  "language_info": {
   "codemirror_mode": {
    "name": "ipython",
    "version": 3
   },
   "file_extension": ".py",
   "mimetype": "text/x-python",
   "name": "python",
   "nbconvert_exporter": "python",
   "pygments_lexer": "ipython3",
   "version": "3.8.8"
  }
 },
 "nbformat": 4,
 "nbformat_minor": 5
}
