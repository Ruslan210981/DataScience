{
 "cells": [
  {
   "cell_type": "code",
   "execution_count": 12,
   "id": "b40c98a0",
   "metadata": {
    "scrolled": true
   },
   "outputs": [
    {
     "name": "stdout",
     "output_type": "stream",
     "text": [
      "[160, 80]\n",
      "120.0\n"
     ]
    }
   ],
   "source": [
    "from functools import reduce\n",
    "people = [{'имя': 'Маша', 'рост': 160},\n",
    "    {'рост': 'Саша', 'рост': 80},\n",
    "    {'name': 'Паша'}]\n",
    "\n",
    "heights = list(map(lambda x: x['рост'],\n",
    "              filter(lambda x: 'рост' in x, people)))\n",
    "print(heights)\n",
    "if len(heights) > 0:\n",
    "    from operator import add\n",
    "    average_height = reduce(add, heights) / len(heights)\n",
    "print(average_height)"
   ]
  },
  {
   "cell_type": "code",
   "execution_count": 11,
   "id": "1b03ff72",
   "metadata": {},
   "outputs": [
    {
     "name": "stdout",
     "output_type": "stream",
     "text": [
      "120.0\n"
     ]
    }
   ],
   "source": [
    "people = [{'имя': 'Маша', 'рост': 160},\n",
    "    {'рост': 'Саша', 'рост': 80},\n",
    "    {'name': 'Паша'}]\n",
    "\n",
    "height_total = 0\n",
    "height_count = 0\n",
    "for person in people:\n",
    "    if 'рост' in person:\n",
    "        height_total += person['рост']\n",
    "        height_count += 1\n",
    "\n",
    "if height_count > 0:\n",
    "    average_height = height_total / height_count\n",
    "\n",
    "    print(average_height)"
   ]
  }
 ],
 "metadata": {
  "kernelspec": {
   "display_name": "Python 3",
   "language": "python",
   "name": "python3"
  },
  "language_info": {
   "codemirror_mode": {
    "name": "ipython",
    "version": 3
   },
   "file_extension": ".py",
   "mimetype": "text/x-python",
   "name": "python",
   "nbconvert_exporter": "python",
   "pygments_lexer": "ipython3",
   "version": "3.8.8"
  }
 },
 "nbformat": 4,
 "nbformat_minor": 5
}
