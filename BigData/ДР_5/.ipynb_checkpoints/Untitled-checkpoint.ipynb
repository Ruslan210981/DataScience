{
 "cells": [
  {
   "cell_type": "code",
   "execution_count": 69,
   "id": "1cb9997a",
   "metadata": {
    "scrolled": true
   },
   "outputs": [
    {
     "name": "stdout",
     "output_type": "stream",
     "text": [
      "None\t0\n"
     ]
    }
   ],
   "source": [
    "#from operator import itemgetterimport\n",
    "import sys\n",
    "current_word = None\n",
    "current_count = 0\n",
    "word = None\n",
    "# input comes from STDIN\n",
    "for line in sys.stdin:\n",
    "    print(line)\n",
    "    # do not forget to output the last word if needed!\n",
    "    # remove leading and trailing whitespace    \n",
    "    line = line.strip()    \n",
    "        # parse the input we got from mapper.py    \n",
    "    word, count = line.split(',', 1)    \n",
    "        # convert count (currently a string) to int  \n",
    "    try:        \n",
    "        count = int(count)    \n",
    "    except ValueError:        \n",
    "            \n",
    "            # count was not a number, so silently        \n",
    "            # ignore/discard this line        \n",
    "        continue    \n",
    "        # this IF-switch only works because Hadoop sorts map output    \n",
    "        # by key (here: word) before it is passed to the reducer    \n",
    "    if current_word == word:        \n",
    "        current_count += count    \n",
    "    else:        \n",
    "        if current_word:            \n",
    "            # write result to STDOUT            \n",
    "            print (\"%s\\t%s\" % (current_word, current_count))\n",
    "        current_count = count\n",
    "        current_word = word \n",
    "if current_word == word:    \n",
    "    print (\"%s\\t%s\" % (current_word, current_count))"
   ]
  },
  {
   "cell_type": "code",
   "execution_count": 100,
   "id": "cbc1a9c2",
   "metadata": {
    "scrolled": true
   },
   "outputs": [
    {
     "name": "stdout",
     "output_type": "stream",
     "text": [
      "{'чашка': 2, 'стол': 3, 'стул': 1, 'кровать': 1, 'трансформатор': 1, 'коробка': 1}\n"
     ]
    }
   ],
   "source": [
    "dic = {}\n",
    "stroka = \"чашка стол стул кровать стол трансформатор коробка чашка стол\"\n",
    "words = stroka.split(' ')\n",
    "for word in words:\n",
    "    if word in dic.keys():\n",
    "        dic[word]+=1\n",
    "    else:\n",
    "        dic[word]=1\n",
    "print(dic)"
   ]
  }
 ],
 "metadata": {
  "kernelspec": {
   "display_name": "Python 3",
   "language": "python",
   "name": "python3"
  },
  "language_info": {
   "codemirror_mode": {
    "name": "ipython",
    "version": 3
   },
   "file_extension": ".py",
   "mimetype": "text/x-python",
   "name": "python",
   "nbconvert_exporter": "python",
   "pygments_lexer": "ipython3",
   "version": "3.8.8"
  }
 },
 "nbformat": 4,
 "nbformat_minor": 5
}
