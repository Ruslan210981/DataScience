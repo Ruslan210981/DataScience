{
 "cells": [
  {
   "cell_type": "markdown",
   "id": "75e57ff4",
   "metadata": {},
   "source": [
    "# Задание 1\n",
    "Напишите функцию, которая возвращает название валюты (поле ‘Name’) с максимальным значением курса с помощью сервиса www.cbr-xml-daily.ru...ly_json.js"
   ]
  },
  {
   "cell_type": "code",
   "execution_count": 22,
   "id": "a8527114",
   "metadata": {},
   "outputs": [
    {
     "name": "stdout",
     "output_type": "stream",
     "text": [
      "Валюта с максимальным значением: XDR; значение: 104.8949\n"
     ]
    }
   ],
   "source": [
    "import requests\n",
    "   \n",
    "def name_max_val():\n",
    "    r = requests.get('https://www.cbr-xml-daily.ru/daily_json.js')\n",
    "    max_val = 0.0\n",
    "    for vlt, val in r.json()['Valute'].items():\n",
    "        if val['Value'] > max_val:\n",
    "            max_val = val['Value']\n",
    "            name_max_vlt = vlt\n",
    "    return print(f'Валюта с максимальным значением: {name_max_vlt}; значение: {max_val}')\n",
    "\n",
    "name_max_val()"
   ]
  },
  {
   "cell_type": "markdown",
   "id": "a83f367e",
   "metadata": {},
   "source": [
    "# Задание 2\n",
    "Добавьте в класс Rate параметр diff (со значениями True или False), который в случае значения True в методах курсов валют (eur, usd итд) будет возвращать не курс валюты, а изменение по сравнению в прошлым значением. Считайте, self.diff будет принимать значение True только при возврате значения курса. При отображении всей информации о валюте он не используется."
   ]
  },
  {
   "cell_type": "code",
   "execution_count": 41,
   "id": "7fab6cae",
   "metadata": {},
   "outputs": [
    {
     "data": {
      "text/plain": [
       "-0.07760000000000389"
      ]
     },
     "execution_count": 41,
     "metadata": {},
     "output_type": "execute_result"
    }
   ],
   "source": [
    "class Rate:\n",
    "    def __init__(self, diff_ = False):\n",
    "        self.diff = diff_\n",
    "    \n",
    "    def exchange_rates(self):\n",
    "        self.r = requests.get('https://www.cbr-xml-daily.ru/daily_json.js')\n",
    "        return self.r.json()['Valute']\n",
    "    def make_format(self, currency):\n",
    "        \"\"\"\n",
    "        Возвращает информацию о валюте currency в двух вариантах:\n",
    "        - полная информация о валюте при self.diff = False:\n",
    "        Rate().make_format('EUR')\n",
    "        {\n",
    "            'CharCode': 'EUR',\n",
    "            'ID': 'R01239',\n",
    "            'Name': 'Евро',\n",
    "            'Nominal': 1,\n",
    "            'NumCode': '978',\n",
    "            'Previous': 79.6765,\n",
    "            'Value': 79.4966\n",
    "        }\n",
    "        - выводится только величина на которое изменилось значение валюты при self.diff = True:\n",
    "        Rate(True).make_format('EUR')\n",
    "        -0.07760000000000389\n",
    "        \n",
    "        \"\"\"\n",
    "        response = self.exchange_rates()\n",
    "        if currency in response:\n",
    "            if self.diff:\n",
    "                return response[currency]['Value'] - response[currency]['Previous']\n",
    "            else:\n",
    "                return response[currency]\n",
    "        \n",
    "        return 'Error'\n",
    "    \n",
    "    def eur(self):\n",
    "        \"\"\"Возвращает курс евро на сегодня в формате self.format\"\"\"\n",
    "        return self.make_format('EUR')\n",
    "             \n",
    "    def usd(self):\n",
    "        \"\"\"Возвращает курс доллара на сегодня в формате self.format\"\"\"\n",
    "        return self.make_format('USD')\n",
    "    \n",
    "    def brl(self):\n",
    "        \"\"\"Возвращает курс бразильского реала на сегодня в формате self.format\"\"\"\n",
    "        return self.make_format('BRL')\n",
    "r = Rate(True)\n",
    "r.eur()\n",
    "# r.usd()\n",
    "# r.brl()"
   ]
  },
  {
   "cell_type": "markdown",
   "id": "d8e12fb3",
   "metadata": {},
   "source": [
    "# Задание 3\n",
    "Напишите класс Designer, который учитывает количество международных премий. Подсказки в коде занятия в разделе “Домашнее задание задача 3”."
   ]
  },
  {
   "cell_type": "code",
   "execution_count": 79,
   "id": "ecba59cc",
   "metadata": {},
   "outputs": [
    {
     "name": "stdout",
     "output_type": "stream",
     "text": [
      "Александр 1 6\n",
      "Александр 2 0\n",
      "Александр 2 2\n",
      "Александр 2 3\n",
      "Александр 2 5\n",
      "Александр 2 6\n",
      "Александр 3 1\n",
      "Александр 3 2\n",
      "Александр 3 4\n",
      "Александр 3 5\n",
      "Александр 4 0\n",
      "Александр 4 1\n",
      "Александр 4 3\n",
      "Александр 4 4\n",
      "Александр 4 6\n",
      "Александр 5 0\n",
      "Александр 5 2\n",
      "Александр 5 3\n",
      "Александр 5 5\n",
      "Александр 5 6\n"
     ]
    }
   ],
   "source": [
    "class Employee:\n",
    "    def __init__(self, name, seniority):\n",
    "        self.name = name\n",
    "        self.seniority = seniority\n",
    "        self.grade = 1\n",
    "    \n",
    "    def grade_up(self):\n",
    "        \"\"\"Повышает уровень сотрудника\"\"\"\n",
    "        self.grade += 1\n",
    "        self.seniority -= self.step_designer\n",
    "    \n",
    "    def publish_grade(self):\n",
    "        \"\"\"Публикация результатов аккредитации сотрудников\"\"\"\n",
    "        print(self.name, self.grade, self.seniority)\n",
    "    \n",
    "    def check_if_it_is_time_for_upgrade(self):\n",
    "        pass\n",
    "    \n",
    "class Designer(Employee):\n",
    "    def __init__(self, name, seniority):\n",
    "        super().__init__(name, seniority)\n",
    "        #считаем что сотрудник уже имеет две премии, т.е. минимум 4 балла\n",
    "        self.seniority = 2 * 2 + seniority\n",
    "        # для дизайнера оперделяем шаг повышения уровня в 7 баллов\n",
    "        self.step_designer = 7\n",
    "        \n",
    "    def international_prize(self):\n",
    "        #за каждую междуранодную премию получаем +2 балла\n",
    "        self.seniority += 2 \n",
    "        self.check_grade_up()\n",
    "    \n",
    "    def check_if_it_is_time_for_upgrade(self):\n",
    "        # для каждой аккредитации увеличиваем счетчик на 1\n",
    "        # пока считаем, что все разработчики проходят аккредитацию\n",
    "        self.seniority += 1\n",
    "        self.check_grade_up()\n",
    "        \n",
    "    def check_grade_up(self):    # условие повышения сотрудника из презентации\n",
    "        if self.seniority // self.step_designer > 0:\n",
    "            self.grade_up()\n",
    "        \n",
    "        # публикация результатов\n",
    "        return self.publish_grade()\n",
    "    \n",
    "alex = Designer('Александр',0)\n",
    "for i in range(10):\n",
    "    alex.international_prize()\n",
    "    alex.check_if_it_is_time_for_upgrade()"
   ]
  }
 ],
 "metadata": {
  "celltoolbar": "Необработанный формат ячейки",
  "kernelspec": {
   "display_name": "Python 3",
   "language": "python",
   "name": "python3"
  },
  "language_info": {
   "codemirror_mode": {
    "name": "ipython",
    "version": 3
   },
   "file_extension": ".py",
   "mimetype": "text/x-python",
   "name": "python",
   "nbconvert_exporter": "python",
   "pygments_lexer": "ipython3",
   "version": "3.8.8"
  }
 },
 "nbformat": 4,
 "nbformat_minor": 5
}
